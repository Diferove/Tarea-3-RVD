{
 "cells": [
  {
   "cell_type": "code",
   "execution_count": 1,
   "metadata": {
    "collapsed": true
   },
   "outputs": [],
   "source": [
    "from QuantLib import *\n",
    "import pandas as pd\n",
    "import numpy as np\n",
    "import matplotlib.pyplot as plt\n",
    "%matplotlib inline"
   ]
  },
  {
   "cell_type": "code",
   "execution_count": 2,
   "metadata": {
    "collapsed": false
   },
   "outputs": [
    {
     "data": {
      "text/html": [
       "<div>\n",
       "<table border=\"1\" class=\"dataframe\">\n",
       "  <thead>\n",
       "    <tr style=\"text-align: right;\">\n",
       "      <th></th>\n",
       "      <th>Maturities</th>\n",
       "      <th>Curve</th>\n",
       "    </tr>\n",
       "  </thead>\n",
       "  <tbody>\n",
       "    <tr>\n",
       "      <th></th>\n",
       "      <td>1D</td>\n",
       "      <td>6.666</td>\n",
       "    </tr>\n",
       "    <tr>\n",
       "      <th></th>\n",
       "      <td>1M</td>\n",
       "      <td>6.430</td>\n",
       "    </tr>\n",
       "    <tr>\n",
       "      <th></th>\n",
       "      <td>3M</td>\n",
       "      <td>6.115</td>\n",
       "    </tr>\n",
       "    <tr>\n",
       "      <th></th>\n",
       "      <td>6M</td>\n",
       "      <td>5.850</td>\n",
       "    </tr>\n",
       "    <tr>\n",
       "      <th></th>\n",
       "      <td>9M</td>\n",
       "      <td>5.710</td>\n",
       "    </tr>\n",
       "    <tr>\n",
       "      <th></th>\n",
       "      <td>1Y</td>\n",
       "      <td>5.540</td>\n",
       "    </tr>\n",
       "    <tr>\n",
       "      <th></th>\n",
       "      <td>2Y</td>\n",
       "      <td>5.135</td>\n",
       "    </tr>\n",
       "    <tr>\n",
       "      <th></th>\n",
       "      <td>3Y</td>\n",
       "      <td>5.120</td>\n",
       "    </tr>\n",
       "    <tr>\n",
       "      <th></th>\n",
       "      <td>5Y</td>\n",
       "      <td>5.330</td>\n",
       "    </tr>\n",
       "    <tr>\n",
       "      <th></th>\n",
       "      <td>7Y</td>\n",
       "      <td>5.610</td>\n",
       "    </tr>\n",
       "    <tr>\n",
       "      <th></th>\n",
       "      <td>10Y</td>\n",
       "      <td>6.050</td>\n",
       "    </tr>\n",
       "  </tbody>\n",
       "</table>\n",
       "</div>"
      ],
      "text/plain": [
       " Maturities  Curve\n",
       "         1D  6.666\n",
       "         1M  6.430\n",
       "         3M  6.115\n",
       "         6M  5.850\n",
       "         9M  5.710\n",
       "         1Y  5.540\n",
       "         2Y  5.135\n",
       "         3Y  5.120\n",
       "         5Y  5.330\n",
       "         7Y  5.610\n",
       "        10Y  6.050"
      ]
     },
     "execution_count": 2,
     "metadata": {},
     "output_type": "execute_result"
    }
   ],
   "source": [
    "# IBR\n",
    "depo_maturities = [Period(1,Days), Period(1, Months), Period(3, Months)]\n",
    "depo_rates = [6.666, 6.43, 6.115]\n",
    "# Swaps IBR Bullet\n",
    "swap_bull_maturities = [Period(6, Months), Period(9, Months), Period(12, Months)]\n",
    "swap_bull_rates = [5.85, 5.71, 5.54]\n",
    "# Swaps IBR Trimestral\n",
    "swap_maturities = [Period(24, Months), Period(36, Months), Period(60, Months), Period(84, Months), Period(120, Months)]\n",
    "swap_rates = [5.135, 5.12, 5.33, 5.61, 6.05]\n",
    "\n",
    "maturities = depo_maturities+swap_bull_maturities+swap_maturities\n",
    "rates = depo_rates+swap_bull_rates+swap_rates\n",
    "pd.DataFrame(list(zip(maturities, rates)) , columns=[\"Maturities\",\"Curve\"], index=['']*len(rates))\n",
    "#print_curve(depo_maturities+swap_bull_maturities+swap_maturities, depo_rates+swap_bull_rates+swap_rates)"
   ]
  },
  {
   "cell_type": "code",
   "execution_count": 3,
   "metadata": {
    "collapsed": true
   },
   "outputs": [],
   "source": [
    "calc_date = Date(18, 4, 2017)\n",
    "Settings.instance().evaluationDate = calc_date\n",
    "calendar = NullCalendar()\n",
    "bussiness_convention = Unadjusted\n",
    "day_count = Actual360()\n",
    "end_of_month = True\n",
    "settlement_days_ibr = 0\n",
    "settlement_days_swap = 2\n",
    "face_amount = 100\n",
    "coupon_frequency_bullet = Period(Annual)\n",
    "coupon_frequency_quarterly = Period(Quarterly)"
   ]
  },
  {
   "cell_type": "code",
   "execution_count": 4,
   "metadata": {
    "collapsed": true
   },
   "outputs": [],
   "source": [
    "depo_helpers = [DepositRateHelper(QuoteHandle(SimpleQuote(r/100.0)),\n",
    "                                          m,\n",
    "                                          settlement_days_ibr,\n",
    "                                          calendar,\n",
    "                                          bussiness_convention,\n",
    "                                          end_of_month,\n",
    "                                          day_count)\n",
    "                for r, m in zip(depo_rates, depo_maturities)]"
   ]
  },
  {
   "cell_type": "code",
   "execution_count": 5,
   "metadata": {
    "collapsed": true
   },
   "outputs": [],
   "source": [
    "swap_bull_helpers = []\n",
    "for r, m in zip(swap_bull_rates, swap_bull_maturities):\n",
    "            termination_date = calc_date + m\n",
    "            schedule = Schedule(calc_date,\n",
    "                                termination_date,\n",
    "                                coupon_frequency_bullet,\n",
    "                                calendar,\n",
    "                                bussiness_convention,\n",
    "                                bussiness_convention,\n",
    "                                DateGeneration.Backward,\n",
    "                                end_of_month)\n",
    "            swap_bull_helper = FixedRateBondHelper(QuoteHandle(SimpleQuote(face_amount)),\n",
    "                                              settlement_days_swap,\n",
    "                                              face_amount,\n",
    "                                              schedule,\n",
    "                                              [r/100.0],\n",
    "                                              day_count,\n",
    "                                              bussiness_convention)\n",
    "            swap_bull_helpers.append(swap_bull_helper)"
   ]
  },
  {
   "cell_type": "code",
   "execution_count": 6,
   "metadata": {
    "collapsed": true
   },
   "outputs": [],
   "source": [
    "swap_helpers = []\n",
    "for r, m in zip(swap_rates, swap_maturities):\n",
    "            termination_date = calc_date + m\n",
    "            schedule = Schedule(calc_date,\n",
    "                                termination_date,\n",
    "                                coupon_frequency_quarterly,\n",
    "                                calendar,\n",
    "                                bussiness_convention,\n",
    "                                bussiness_convention,\n",
    "                                DateGeneration.Backward,\n",
    "                                end_of_month)\n",
    "            swap_helper = FixedRateBondHelper(QuoteHandle(SimpleQuote(face_amount)),\n",
    "                                              settlement_days_swap,\n",
    "                                              face_amount,\n",
    "                                              schedule,\n",
    "                                              [r/100.0],\n",
    "                                              day_count,\n",
    "                                              bussiness_convention)\n",
    "            swap_helpers.append(swap_helper)"
   ]
  },
  {
   "cell_type": "code",
   "execution_count": 7,
   "metadata": {
    "collapsed": true
   },
   "outputs": [],
   "source": [
    "rate_helpers = depo_helpers + swap_bull_helpers + swap_helpers"
   ]
  },
  {
   "cell_type": "code",
   "execution_count": 9,
   "metadata": {
    "collapsed": false
   },
   "outputs": [],
   "source": [
    "ibr_forward_curve = PiecewiseFlatForward(calc_date, rate_helpers, day_count)"
   ]
  },
  {
   "cell_type": "code",
   "execution_count": 10,
   "metadata": {
    "collapsed": true
   },
   "outputs": [],
   "source": [
    "nodes = list(ibr_forward_curve.nodes())"
   ]
  },
  {
   "cell_type": "code",
   "execution_count": 11,
   "metadata": {
    "collapsed": false
   },
   "outputs": [
    {
     "data": {
      "text/plain": [
       "[(Date(18,4,2017), 0.0666538291567938),\n",
       " (Date(19,4,2017), 0.0666538291567938),\n",
       " (Date(18,5,2017), 0.06404125676253172),\n",
       " (Date(18,7,2017), 0.05898738417412883),\n",
       " (Date(18,10,2017), 0.05479394484160651),\n",
       " (Date(18,1,2018), 0.05242474660056372),\n",
       " (Date(18,4,2018), 0.047857989228361646),\n",
       " (Date(18,4,2019), 0.047940193766832034),\n",
       " (Date(18,4,2020), 0.050552141104655945),\n",
       " (Date(18,4,2022), 0.05649194230194418),\n",
       " (Date(18,4,2024), 0.06415733799664336),\n",
       " (Date(18,4,2027), 0.0740622240454296)]"
      ]
     },
     "execution_count": 11,
     "metadata": {},
     "output_type": "execute_result"
    }
   ],
   "source": [
    "nodes[:12]"
   ]
  },
  {
   "cell_type": "code",
   "execution_count": 12,
   "metadata": {
    "collapsed": false
   },
   "outputs": [
    {
     "data": {
      "text/html": [
       "<div>\n",
       "<table border=\"1\" class=\"dataframe\">\n",
       "  <thead>\n",
       "    <tr style=\"text-align: right;\">\n",
       "      <th></th>\n",
       "      <th>Maturities</th>\n",
       "      <th>Curve</th>\n",
       "    </tr>\n",
       "  </thead>\n",
       "  <tbody>\n",
       "    <tr>\n",
       "      <th>0</th>\n",
       "      <td>April 18th, 2017</td>\n",
       "      <td>0.066654</td>\n",
       "    </tr>\n",
       "    <tr>\n",
       "      <th>1</th>\n",
       "      <td>April 19th, 2017</td>\n",
       "      <td>0.066654</td>\n",
       "    </tr>\n",
       "    <tr>\n",
       "      <th>2</th>\n",
       "      <td>May 18th, 2017</td>\n",
       "      <td>0.064041</td>\n",
       "    </tr>\n",
       "    <tr>\n",
       "      <th>3</th>\n",
       "      <td>July 18th, 2017</td>\n",
       "      <td>0.058987</td>\n",
       "    </tr>\n",
       "    <tr>\n",
       "      <th>4</th>\n",
       "      <td>October 18th, 2017</td>\n",
       "      <td>0.054794</td>\n",
       "    </tr>\n",
       "    <tr>\n",
       "      <th>5</th>\n",
       "      <td>January 18th, 2018</td>\n",
       "      <td>0.052425</td>\n",
       "    </tr>\n",
       "    <tr>\n",
       "      <th>6</th>\n",
       "      <td>April 18th, 2018</td>\n",
       "      <td>0.047858</td>\n",
       "    </tr>\n",
       "    <tr>\n",
       "      <th>7</th>\n",
       "      <td>April 18th, 2019</td>\n",
       "      <td>0.047940</td>\n",
       "    </tr>\n",
       "    <tr>\n",
       "      <th>8</th>\n",
       "      <td>April 18th, 2020</td>\n",
       "      <td>0.050552</td>\n",
       "    </tr>\n",
       "    <tr>\n",
       "      <th>9</th>\n",
       "      <td>April 18th, 2022</td>\n",
       "      <td>0.056492</td>\n",
       "    </tr>\n",
       "    <tr>\n",
       "      <th>10</th>\n",
       "      <td>April 18th, 2024</td>\n",
       "      <td>0.064157</td>\n",
       "    </tr>\n",
       "    <tr>\n",
       "      <th>11</th>\n",
       "      <td>April 18th, 2027</td>\n",
       "      <td>0.074062</td>\n",
       "    </tr>\n",
       "  </tbody>\n",
       "</table>\n",
       "</div>"
      ],
      "text/plain": [
       "            Maturities     Curve\n",
       "0     April 18th, 2017  0.066654\n",
       "1     April 19th, 2017  0.066654\n",
       "2       May 18th, 2017  0.064041\n",
       "3      July 18th, 2017  0.058987\n",
       "4   October 18th, 2017  0.054794\n",
       "5   January 18th, 2018  0.052425\n",
       "6     April 18th, 2018  0.047858\n",
       "7     April 18th, 2019  0.047940\n",
       "8     April 18th, 2020  0.050552\n",
       "9     April 18th, 2022  0.056492\n",
       "10    April 18th, 2024  0.064157\n",
       "11    April 18th, 2027  0.074062"
      ]
     },
     "execution_count": 12,
     "metadata": {},
     "output_type": "execute_result"
    }
   ],
   "source": [
    "fwd = pd.DataFrame(nodes[:12],columns=[\"Maturities\",\"Curve\"])\n",
    "fwd.iloc[0:12, 0:2]"
   ]
  },
  {
   "cell_type": "code",
   "execution_count": 13,
   "metadata": {
    "collapsed": false
   },
   "outputs": [
    {
     "data": {
      "text/html": [
       "<div>\n",
       "<table border=\"1\" class=\"dataframe\">\n",
       "  <thead>\n",
       "    <tr style=\"text-align: right;\">\n",
       "      <th></th>\n",
       "      <th>Maturities</th>\n",
       "      <th>Curve</th>\n",
       "      <th>Vencimiento</th>\n",
       "      <th>Tasas Forward</th>\n",
       "    </tr>\n",
       "  </thead>\n",
       "  <tbody>\n",
       "    <tr>\n",
       "      <th>0</th>\n",
       "      <td>April 18th, 2017</td>\n",
       "      <td>0.066654</td>\n",
       "      <td>0.000000</td>\n",
       "      <td>6.665383</td>\n",
       "    </tr>\n",
       "    <tr>\n",
       "      <th>1</th>\n",
       "      <td>April 19th, 2017</td>\n",
       "      <td>0.066654</td>\n",
       "      <td>0.033333</td>\n",
       "      <td>6.665383</td>\n",
       "    </tr>\n",
       "    <tr>\n",
       "      <th>2</th>\n",
       "      <td>May 18th, 2017</td>\n",
       "      <td>0.064041</td>\n",
       "      <td>1.000000</td>\n",
       "      <td>6.404126</td>\n",
       "    </tr>\n",
       "    <tr>\n",
       "      <th>3</th>\n",
       "      <td>July 18th, 2017</td>\n",
       "      <td>0.058987</td>\n",
       "      <td>3.000000</td>\n",
       "      <td>5.898738</td>\n",
       "    </tr>\n",
       "    <tr>\n",
       "      <th>4</th>\n",
       "      <td>October 18th, 2017</td>\n",
       "      <td>0.054794</td>\n",
       "      <td>6.000000</td>\n",
       "      <td>5.479394</td>\n",
       "    </tr>\n",
       "    <tr>\n",
       "      <th>5</th>\n",
       "      <td>January 18th, 2018</td>\n",
       "      <td>0.052425</td>\n",
       "      <td>9.000000</td>\n",
       "      <td>5.242475</td>\n",
       "    </tr>\n",
       "    <tr>\n",
       "      <th>6</th>\n",
       "      <td>April 18th, 2018</td>\n",
       "      <td>0.047858</td>\n",
       "      <td>12.000000</td>\n",
       "      <td>4.785799</td>\n",
       "    </tr>\n",
       "    <tr>\n",
       "      <th>7</th>\n",
       "      <td>April 18th, 2019</td>\n",
       "      <td>0.047940</td>\n",
       "      <td>24.000000</td>\n",
       "      <td>4.794019</td>\n",
       "    </tr>\n",
       "    <tr>\n",
       "      <th>8</th>\n",
       "      <td>April 18th, 2020</td>\n",
       "      <td>0.050552</td>\n",
       "      <td>36.000000</td>\n",
       "      <td>5.055214</td>\n",
       "    </tr>\n",
       "    <tr>\n",
       "      <th>9</th>\n",
       "      <td>April 18th, 2022</td>\n",
       "      <td>0.056492</td>\n",
       "      <td>60.000000</td>\n",
       "      <td>5.649194</td>\n",
       "    </tr>\n",
       "    <tr>\n",
       "      <th>10</th>\n",
       "      <td>April 18th, 2024</td>\n",
       "      <td>0.064157</td>\n",
       "      <td>84.000000</td>\n",
       "      <td>6.415734</td>\n",
       "    </tr>\n",
       "    <tr>\n",
       "      <th>11</th>\n",
       "      <td>April 18th, 2027</td>\n",
       "      <td>0.074062</td>\n",
       "      <td>120.000000</td>\n",
       "      <td>7.406222</td>\n",
       "    </tr>\n",
       "  </tbody>\n",
       "</table>\n",
       "</div>"
      ],
      "text/plain": [
       "            Maturities     Curve  Vencimiento  Tasas Forward\n",
       "0     April 18th, 2017  0.066654     0.000000       6.665383\n",
       "1     April 19th, 2017  0.066654     0.033333       6.665383\n",
       "2       May 18th, 2017  0.064041     1.000000       6.404126\n",
       "3      July 18th, 2017  0.058987     3.000000       5.898738\n",
       "4   October 18th, 2017  0.054794     6.000000       5.479394\n",
       "5   January 18th, 2018  0.052425     9.000000       5.242475\n",
       "6     April 18th, 2018  0.047858    12.000000       4.785799\n",
       "7     April 18th, 2019  0.047940    24.000000       4.794019\n",
       "8     April 18th, 2020  0.050552    36.000000       5.055214\n",
       "9     April 18th, 2022  0.056492    60.000000       5.649194\n",
       "10    April 18th, 2024  0.064157    84.000000       6.415734\n",
       "11    April 18th, 2027  0.074062   120.000000       7.406222"
      ]
     },
     "execution_count": 13,
     "metadata": {},
     "output_type": "execute_result"
    }
   ],
   "source": [
    "fwd['Vencimiento']=[0, 1/30, 1, 3, 6, 9, 12, 24, 36, 60, 84, 120]\n",
    "fwd['Tasas Forward']=100*fwd['Curve']\n",
    "fwd.iloc[0:12, 0:4]"
   ]
  },
  {
   "cell_type": "code",
   "execution_count": 14,
   "metadata": {
    "collapsed": false
   },
   "outputs": [
    {
     "data": {
      "text/plain": [
       "<matplotlib.legend.Legend at 0x11074b080>"
      ]
     },
     "execution_count": 14,
     "metadata": {},
     "output_type": "execute_result"
    },
    {
     "data": {
      "image/png": "[encoded data removed]",
      "text/plain": [
       "<matplotlib.figure.Figure at 0x11074b0f0>"
      ]
     },
     "metadata": {},
     "output_type": "display_data"
    }
   ],
   "source": [
    "plt.plot(fwd['Vencimiento'],fwd['Tasas Forward'], '-',\n",
    "                  label=\"Curva Forward Instantanea\")\n",
    "plt.xlabel(\"Mes\", size=12)\n",
    "plt.ylabel(\"Tasa Forward\", size=12)\n",
    "plt.xlim(0,120)\n",
    "plt.ylim([0,10])\n",
    "plt.legend()"
   ]
  },
  {
   "cell_type": "code",
   "execution_count": 15,
   "metadata": {
    "collapsed": true
   },
   "outputs": [],
   "source": [
    "madurez = [0,1/3,2/31,1,31/30,3,91/30,6,181/30,9,271/30,12,361/30,24,721/30,36,1081/30,60,1801/30,84,2521/30,120]\n",
    "tasas = [6.665383,6.665383,6.404126,6.404126,5.898738,5.898738,5.479394,5.479394,5.242475,5.242475,\n",
    "         4.785799,4.785799,4.794019,4.794019,5.055214,5.055214,5.649194,5.649194,6.415734,6.415734,\n",
    "         7.406222,7.406222]\n",
    "curva_fwd = pd.DataFrame(list(zip(madurez, tasas)) , columns=[\"Vencimiento\",\"Tasas Forward\"], \n",
    "                         index=['']*len(tasas))"
   ]
  },
  {
   "cell_type": "code",
   "execution_count": 17,
   "metadata": {
    "collapsed": false
   },
   "outputs": [
    {
     "data": {
      "text/plain": [
       "<matplotlib.legend.Legend at 0x112cf9400>"
      ]
     },
     "execution_count": 17,
     "metadata": {},
     "output_type": "execute_result"
    },
    {
     "data": {
      "image/png": "[encoded data removed]",
      "text/plain": [
       "<matplotlib.figure.Figure at 0x112d2f9e8>"
      ]
     },
     "metadata": {},
     "output_type": "display_data"
    }
   ],
   "source": [
    "plt.plot(curva_fwd['Vencimiento'],curva_fwd['Tasas Forward'], '-',\n",
    "                  label=\"Curva Forward Instantanea\")\n",
    "plt.xlabel(\"Mes\", size=12)\n",
    "plt.ylabel(\"Tasa Forward\", size=12)\n",
    "plt.xlim(0,120)\n",
    "plt.ylim([0,10])\n",
    "plt.legend()"
   ]
  },
  {
   "cell_type": "code",
   "execution_count": null,
   "metadata": {
    "collapsed": true
   },
   "outputs": [],
   "source": []
  }
 ],
 "metadata": {
  "kernelspec": {
   "display_name": "Python 3",
   "language": "python",
   "name": "python3"
  },
  "language_info": {
   "codemirror_mode": {
    "name": "ipython",
    "version": 3
   },
   "file_extension": ".py",
   "mimetype": "text/x-python",
   "name": "python",
   "nbconvert_exporter": "python",
   "pygments_lexer": "ipython3",
   "version": "3.5.2"
  }
 },
 "nbformat": 4,
 "nbformat_minor": 2
}
